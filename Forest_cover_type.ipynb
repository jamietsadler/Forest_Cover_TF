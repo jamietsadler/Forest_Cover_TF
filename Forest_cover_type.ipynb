{
  "nbformat": 4,
  "nbformat_minor": 0,
  "metadata": {
    "colab": {
      "name": "Forest_cover_type.ipynb",
      "provenance": [],
      "collapsed_sections": []
    },
    "kernelspec": {
      "name": "python3",
      "display_name": "Python 3"
    }
  },
  "cells": [
    {
      "cell_type": "code",
      "metadata": {
        "id": "zM4SnOBWTsjl"
      },
      "source": [
        "import tensorflow as tf\r\n",
        "from tensorflow import keras\r\n",
        "from tensorflow.keras.models import Sequential\r\n",
        "\r\n",
        "from tensorflow.keras.callbacks import EarlyStopping\r\n",
        "from tensorflow.keras import layers\r\n",
        "\r\n",
        "from sklearn.model_selection import train_test_split\r\n",
        "from sklearn.preprocessing import LabelEncoder\r\n",
        "from sklearn.preprocessing import StandardScaler\r\n",
        "\r\n",
        "from sklearn.metrics import confusion_matrix\r\n",
        "from sklearn.metrics import classification_report\r\n",
        "\r\n",
        "import pandas as pd\r\n",
        "import numpy as np\r\n",
        "import matplotlib.pyplot as plt\r\n",
        "import seaborn as sns"
      ],
      "execution_count": null,
      "outputs": []
    },
    {
      "cell_type": "markdown",
      "metadata": {
        "id": "QT5byntAYZRv"
      },
      "source": [
        "Load & inspect Data"
      ]
    },
    {
      "cell_type": "code",
      "metadata": {
        "colab": {
          "base_uri": "https://localhost:8080/",
          "height": 217
        },
        "id": "S2JD0Sc6UD5v",
        "outputId": "1d3deff9-a535-4ec9-d3a2-a3f4e65d73a6"
      },
      "source": [
        "df = pd.read_csv('cover_data.csv')\r\n",
        "df.head()"
      ],
      "execution_count": null,
      "outputs": [
        {
          "output_type": "execute_result",
          "data": {
            "text/html": [
              "<div>\n",
              "<style scoped>\n",
              "    .dataframe tbody tr th:only-of-type {\n",
              "        vertical-align: middle;\n",
              "    }\n",
              "\n",
              "    .dataframe tbody tr th {\n",
              "        vertical-align: top;\n",
              "    }\n",
              "\n",
              "    .dataframe thead th {\n",
              "        text-align: right;\n",
              "    }\n",
              "</style>\n",
              "<table border=\"1\" class=\"dataframe\">\n",
              "  <thead>\n",
              "    <tr style=\"text-align: right;\">\n",
              "      <th></th>\n",
              "      <th>Elevation</th>\n",
              "      <th>Aspect</th>\n",
              "      <th>Slope</th>\n",
              "      <th>Horizontal_Distance_To_Hydrology</th>\n",
              "      <th>Vertical_Distance_To_Hydrology</th>\n",
              "      <th>Horizontal_Distance_To_Roadways</th>\n",
              "      <th>Hillshade_9am</th>\n",
              "      <th>Hillshade_Noon</th>\n",
              "      <th>Hillshade_3pm</th>\n",
              "      <th>Horizontal_Distance_To_Fire_Points</th>\n",
              "      <th>Wilderness_Area1</th>\n",
              "      <th>Wilderness_Area2</th>\n",
              "      <th>Wilderness_Area3</th>\n",
              "      <th>Wilderness_Area4</th>\n",
              "      <th>Soil_Type1</th>\n",
              "      <th>Soil_Type2</th>\n",
              "      <th>Soil_Type3</th>\n",
              "      <th>Soil_Type4</th>\n",
              "      <th>Soil_Type5</th>\n",
              "      <th>Soil_Type6</th>\n",
              "      <th>Soil_Type7</th>\n",
              "      <th>Soil_Type8</th>\n",
              "      <th>Soil_Type9</th>\n",
              "      <th>Soil_Type10</th>\n",
              "      <th>Soil_Type11</th>\n",
              "      <th>Soil_Type12</th>\n",
              "      <th>Soil_Type13</th>\n",
              "      <th>Soil_Type14</th>\n",
              "      <th>Soil_Type15</th>\n",
              "      <th>Soil_Type16</th>\n",
              "      <th>Soil_Type17</th>\n",
              "      <th>Soil_Type18</th>\n",
              "      <th>Soil_Type19</th>\n",
              "      <th>Soil_Type20</th>\n",
              "      <th>Soil_Type21</th>\n",
              "      <th>Soil_Type22</th>\n",
              "      <th>Soil_Type23</th>\n",
              "      <th>Soil_Type24</th>\n",
              "      <th>Soil_Type25</th>\n",
              "      <th>Soil_Type26</th>\n",
              "      <th>Soil_Type27</th>\n",
              "      <th>Soil_Type28</th>\n",
              "      <th>Soil_Type29</th>\n",
              "      <th>Soil_Type30</th>\n",
              "      <th>Soil_Type31</th>\n",
              "      <th>Soil_Type32</th>\n",
              "      <th>Soil_Type33</th>\n",
              "      <th>Soil_Type34</th>\n",
              "      <th>Soil_Type35</th>\n",
              "      <th>Soil_Type36</th>\n",
              "      <th>Soil_Type37</th>\n",
              "      <th>Soil_Type38</th>\n",
              "      <th>Soil_Type39</th>\n",
              "      <th>Soil_Type40</th>\n",
              "      <th>class</th>\n",
              "    </tr>\n",
              "  </thead>\n",
              "  <tbody>\n",
              "    <tr>\n",
              "      <th>0</th>\n",
              "      <td>2596</td>\n",
              "      <td>51</td>\n",
              "      <td>3</td>\n",
              "      <td>258</td>\n",
              "      <td>0</td>\n",
              "      <td>510</td>\n",
              "      <td>221</td>\n",
              "      <td>232</td>\n",
              "      <td>148</td>\n",
              "      <td>6279</td>\n",
              "      <td>1</td>\n",
              "      <td>0</td>\n",
              "      <td>0</td>\n",
              "      <td>0</td>\n",
              "      <td>0</td>\n",
              "      <td>0</td>\n",
              "      <td>0</td>\n",
              "      <td>0</td>\n",
              "      <td>0</td>\n",
              "      <td>0</td>\n",
              "      <td>0</td>\n",
              "      <td>0</td>\n",
              "      <td>0</td>\n",
              "      <td>0</td>\n",
              "      <td>0</td>\n",
              "      <td>0</td>\n",
              "      <td>0</td>\n",
              "      <td>0</td>\n",
              "      <td>0</td>\n",
              "      <td>0</td>\n",
              "      <td>0</td>\n",
              "      <td>0</td>\n",
              "      <td>0</td>\n",
              "      <td>0</td>\n",
              "      <td>0</td>\n",
              "      <td>0</td>\n",
              "      <td>0</td>\n",
              "      <td>0</td>\n",
              "      <td>0</td>\n",
              "      <td>0</td>\n",
              "      <td>0</td>\n",
              "      <td>0</td>\n",
              "      <td>1</td>\n",
              "      <td>0</td>\n",
              "      <td>0</td>\n",
              "      <td>0</td>\n",
              "      <td>0</td>\n",
              "      <td>0</td>\n",
              "      <td>0</td>\n",
              "      <td>0</td>\n",
              "      <td>0</td>\n",
              "      <td>0</td>\n",
              "      <td>0</td>\n",
              "      <td>0</td>\n",
              "      <td>5</td>\n",
              "    </tr>\n",
              "    <tr>\n",
              "      <th>1</th>\n",
              "      <td>2590</td>\n",
              "      <td>56</td>\n",
              "      <td>2</td>\n",
              "      <td>212</td>\n",
              "      <td>-6</td>\n",
              "      <td>390</td>\n",
              "      <td>220</td>\n",
              "      <td>235</td>\n",
              "      <td>151</td>\n",
              "      <td>6225</td>\n",
              "      <td>1</td>\n",
              "      <td>0</td>\n",
              "      <td>0</td>\n",
              "      <td>0</td>\n",
              "      <td>0</td>\n",
              "      <td>0</td>\n",
              "      <td>0</td>\n",
              "      <td>0</td>\n",
              "      <td>0</td>\n",
              "      <td>0</td>\n",
              "      <td>0</td>\n",
              "      <td>0</td>\n",
              "      <td>0</td>\n",
              "      <td>0</td>\n",
              "      <td>0</td>\n",
              "      <td>0</td>\n",
              "      <td>0</td>\n",
              "      <td>0</td>\n",
              "      <td>0</td>\n",
              "      <td>0</td>\n",
              "      <td>0</td>\n",
              "      <td>0</td>\n",
              "      <td>0</td>\n",
              "      <td>0</td>\n",
              "      <td>0</td>\n",
              "      <td>0</td>\n",
              "      <td>0</td>\n",
              "      <td>0</td>\n",
              "      <td>0</td>\n",
              "      <td>0</td>\n",
              "      <td>0</td>\n",
              "      <td>0</td>\n",
              "      <td>1</td>\n",
              "      <td>0</td>\n",
              "      <td>0</td>\n",
              "      <td>0</td>\n",
              "      <td>0</td>\n",
              "      <td>0</td>\n",
              "      <td>0</td>\n",
              "      <td>0</td>\n",
              "      <td>0</td>\n",
              "      <td>0</td>\n",
              "      <td>0</td>\n",
              "      <td>0</td>\n",
              "      <td>5</td>\n",
              "    </tr>\n",
              "    <tr>\n",
              "      <th>2</th>\n",
              "      <td>2804</td>\n",
              "      <td>139</td>\n",
              "      <td>9</td>\n",
              "      <td>268</td>\n",
              "      <td>65</td>\n",
              "      <td>3180</td>\n",
              "      <td>234</td>\n",
              "      <td>238</td>\n",
              "      <td>135</td>\n",
              "      <td>6121</td>\n",
              "      <td>1</td>\n",
              "      <td>0</td>\n",
              "      <td>0</td>\n",
              "      <td>0</td>\n",
              "      <td>0</td>\n",
              "      <td>0</td>\n",
              "      <td>0</td>\n",
              "      <td>0</td>\n",
              "      <td>0</td>\n",
              "      <td>0</td>\n",
              "      <td>0</td>\n",
              "      <td>0</td>\n",
              "      <td>0</td>\n",
              "      <td>0</td>\n",
              "      <td>0</td>\n",
              "      <td>1</td>\n",
              "      <td>0</td>\n",
              "      <td>0</td>\n",
              "      <td>0</td>\n",
              "      <td>0</td>\n",
              "      <td>0</td>\n",
              "      <td>0</td>\n",
              "      <td>0</td>\n",
              "      <td>0</td>\n",
              "      <td>0</td>\n",
              "      <td>0</td>\n",
              "      <td>0</td>\n",
              "      <td>0</td>\n",
              "      <td>0</td>\n",
              "      <td>0</td>\n",
              "      <td>0</td>\n",
              "      <td>0</td>\n",
              "      <td>0</td>\n",
              "      <td>0</td>\n",
              "      <td>0</td>\n",
              "      <td>0</td>\n",
              "      <td>0</td>\n",
              "      <td>0</td>\n",
              "      <td>0</td>\n",
              "      <td>0</td>\n",
              "      <td>0</td>\n",
              "      <td>0</td>\n",
              "      <td>0</td>\n",
              "      <td>0</td>\n",
              "      <td>2</td>\n",
              "    </tr>\n",
              "    <tr>\n",
              "      <th>3</th>\n",
              "      <td>2785</td>\n",
              "      <td>155</td>\n",
              "      <td>18</td>\n",
              "      <td>242</td>\n",
              "      <td>118</td>\n",
              "      <td>3090</td>\n",
              "      <td>238</td>\n",
              "      <td>238</td>\n",
              "      <td>122</td>\n",
              "      <td>6211</td>\n",
              "      <td>1</td>\n",
              "      <td>0</td>\n",
              "      <td>0</td>\n",
              "      <td>0</td>\n",
              "      <td>0</td>\n",
              "      <td>0</td>\n",
              "      <td>0</td>\n",
              "      <td>0</td>\n",
              "      <td>0</td>\n",
              "      <td>0</td>\n",
              "      <td>0</td>\n",
              "      <td>0</td>\n",
              "      <td>0</td>\n",
              "      <td>0</td>\n",
              "      <td>0</td>\n",
              "      <td>0</td>\n",
              "      <td>0</td>\n",
              "      <td>0</td>\n",
              "      <td>0</td>\n",
              "      <td>0</td>\n",
              "      <td>0</td>\n",
              "      <td>0</td>\n",
              "      <td>0</td>\n",
              "      <td>0</td>\n",
              "      <td>0</td>\n",
              "      <td>0</td>\n",
              "      <td>0</td>\n",
              "      <td>0</td>\n",
              "      <td>0</td>\n",
              "      <td>0</td>\n",
              "      <td>0</td>\n",
              "      <td>0</td>\n",
              "      <td>0</td>\n",
              "      <td>1</td>\n",
              "      <td>0</td>\n",
              "      <td>0</td>\n",
              "      <td>0</td>\n",
              "      <td>0</td>\n",
              "      <td>0</td>\n",
              "      <td>0</td>\n",
              "      <td>0</td>\n",
              "      <td>0</td>\n",
              "      <td>0</td>\n",
              "      <td>0</td>\n",
              "      <td>2</td>\n",
              "    </tr>\n",
              "    <tr>\n",
              "      <th>4</th>\n",
              "      <td>2595</td>\n",
              "      <td>45</td>\n",
              "      <td>2</td>\n",
              "      <td>153</td>\n",
              "      <td>-1</td>\n",
              "      <td>391</td>\n",
              "      <td>220</td>\n",
              "      <td>234</td>\n",
              "      <td>150</td>\n",
              "      <td>6172</td>\n",
              "      <td>1</td>\n",
              "      <td>0</td>\n",
              "      <td>0</td>\n",
              "      <td>0</td>\n",
              "      <td>0</td>\n",
              "      <td>0</td>\n",
              "      <td>0</td>\n",
              "      <td>0</td>\n",
              "      <td>0</td>\n",
              "      <td>0</td>\n",
              "      <td>0</td>\n",
              "      <td>0</td>\n",
              "      <td>0</td>\n",
              "      <td>0</td>\n",
              "      <td>0</td>\n",
              "      <td>0</td>\n",
              "      <td>0</td>\n",
              "      <td>0</td>\n",
              "      <td>0</td>\n",
              "      <td>0</td>\n",
              "      <td>0</td>\n",
              "      <td>0</td>\n",
              "      <td>0</td>\n",
              "      <td>0</td>\n",
              "      <td>0</td>\n",
              "      <td>0</td>\n",
              "      <td>0</td>\n",
              "      <td>0</td>\n",
              "      <td>0</td>\n",
              "      <td>0</td>\n",
              "      <td>0</td>\n",
              "      <td>0</td>\n",
              "      <td>1</td>\n",
              "      <td>0</td>\n",
              "      <td>0</td>\n",
              "      <td>0</td>\n",
              "      <td>0</td>\n",
              "      <td>0</td>\n",
              "      <td>0</td>\n",
              "      <td>0</td>\n",
              "      <td>0</td>\n",
              "      <td>0</td>\n",
              "      <td>0</td>\n",
              "      <td>0</td>\n",
              "      <td>5</td>\n",
              "    </tr>\n",
              "  </tbody>\n",
              "</table>\n",
              "</div>"
            ],
            "text/plain": [
              "   Elevation  Aspect  Slope  ...  Soil_Type39  Soil_Type40  class\n",
              "0       2596      51      3  ...            0            0      5\n",
              "1       2590      56      2  ...            0            0      5\n",
              "2       2804     139      9  ...            0            0      2\n",
              "3       2785     155     18  ...            0            0      2\n",
              "4       2595      45      2  ...            0            0      5\n",
              "\n",
              "[5 rows x 55 columns]"
            ]
          },
          "metadata": {
            "tags": []
          },
          "execution_count": 53
        }
      ]
    },
    {
      "cell_type": "code",
      "metadata": {
        "colab": {
          "base_uri": "https://localhost:8080/"
        },
        "id": "4zAe6sxmUEk6",
        "outputId": "dfeea3e9-735d-49ee-9870-ff98f506a242"
      },
      "source": [
        "df.shape"
      ],
      "execution_count": null,
      "outputs": [
        {
          "output_type": "execute_result",
          "data": {
            "text/plain": [
              "(581012, 55)"
            ]
          },
          "metadata": {
            "tags": []
          },
          "execution_count": 54
        }
      ]
    },
    {
      "cell_type": "code",
      "metadata": {
        "colab": {
          "base_uri": "https://localhost:8080/"
        },
        "id": "bhuJy0xOU0sT",
        "outputId": "f9219d31-1913-4a8d-d069-6a6e65de6675"
      },
      "source": [
        "df.dtypes"
      ],
      "execution_count": null,
      "outputs": [
        {
          "output_type": "execute_result",
          "data": {
            "text/plain": [
              "Elevation                             int64\n",
              "Aspect                                int64\n",
              "Slope                                 int64\n",
              "Horizontal_Distance_To_Hydrology      int64\n",
              "Vertical_Distance_To_Hydrology        int64\n",
              "Horizontal_Distance_To_Roadways       int64\n",
              "Hillshade_9am                         int64\n",
              "Hillshade_Noon                        int64\n",
              "Hillshade_3pm                         int64\n",
              "Horizontal_Distance_To_Fire_Points    int64\n",
              "Wilderness_Area1                      int64\n",
              "Wilderness_Area2                      int64\n",
              "Wilderness_Area3                      int64\n",
              "Wilderness_Area4                      int64\n",
              "Soil_Type1                            int64\n",
              "Soil_Type2                            int64\n",
              "Soil_Type3                            int64\n",
              "Soil_Type4                            int64\n",
              "Soil_Type5                            int64\n",
              "Soil_Type6                            int64\n",
              "Soil_Type7                            int64\n",
              "Soil_Type8                            int64\n",
              "Soil_Type9                            int64\n",
              "Soil_Type10                           int64\n",
              "Soil_Type11                           int64\n",
              "Soil_Type12                           int64\n",
              "Soil_Type13                           int64\n",
              "Soil_Type14                           int64\n",
              "Soil_Type15                           int64\n",
              "Soil_Type16                           int64\n",
              "Soil_Type17                           int64\n",
              "Soil_Type18                           int64\n",
              "Soil_Type19                           int64\n",
              "Soil_Type20                           int64\n",
              "Soil_Type21                           int64\n",
              "Soil_Type22                           int64\n",
              "Soil_Type23                           int64\n",
              "Soil_Type24                           int64\n",
              "Soil_Type25                           int64\n",
              "Soil_Type26                           int64\n",
              "Soil_Type27                           int64\n",
              "Soil_Type28                           int64\n",
              "Soil_Type29                           int64\n",
              "Soil_Type30                           int64\n",
              "Soil_Type31                           int64\n",
              "Soil_Type32                           int64\n",
              "Soil_Type33                           int64\n",
              "Soil_Type34                           int64\n",
              "Soil_Type35                           int64\n",
              "Soil_Type36                           int64\n",
              "Soil_Type37                           int64\n",
              "Soil_Type38                           int64\n",
              "Soil_Type39                           int64\n",
              "Soil_Type40                           int64\n",
              "class                                 int64\n",
              "dtype: object"
            ]
          },
          "metadata": {
            "tags": []
          },
          "execution_count": 55
        }
      ]
    },
    {
      "cell_type": "code",
      "metadata": {
        "colab": {
          "base_uri": "https://localhost:8080/"
        },
        "id": "myBRObgnVcu9",
        "outputId": "06f25c04-1c6a-4e8a-b973-57c2ec13e6e2"
      },
      "source": [
        "df['class'].value_counts()"
      ],
      "execution_count": null,
      "outputs": [
        {
          "output_type": "execute_result",
          "data": {
            "text/plain": [
              "2    283301\n",
              "1    211840\n",
              "3     35754\n",
              "7     20510\n",
              "6     17367\n",
              "5      9493\n",
              "4      2747\n",
              "Name: class, dtype: int64"
            ]
          },
          "metadata": {
            "tags": []
          },
          "execution_count": 56
        }
      ]
    },
    {
      "cell_type": "code",
      "metadata": {
        "colab": {
          "base_uri": "https://localhost:8080/"
        },
        "id": "MXtiAIWVboAI",
        "outputId": "865ca19c-719b-41a2-f082-5588e330ca0b"
      },
      "source": [
        "df['class'].unique()"
      ],
      "execution_count": null,
      "outputs": [
        {
          "output_type": "execute_result",
          "data": {
            "text/plain": [
              "array([5, 2, 1, 7, 3, 6, 4])"
            ]
          },
          "metadata": {
            "tags": []
          },
          "execution_count": 57
        }
      ]
    },
    {
      "cell_type": "code",
      "metadata": {
        "id": "6bDKL1qIVrYJ"
      },
      "source": [
        "#Fairly Inbalanced"
      ],
      "execution_count": null,
      "outputs": []
    },
    {
      "cell_type": "markdown",
      "metadata": {
        "id": "KJkKqTpAYedn"
      },
      "source": [
        "Split data into features & labels and then training & testing."
      ]
    },
    {
      "cell_type": "code",
      "metadata": {
        "id": "kF8PDDQHdEbr"
      },
      "source": [
        "def prep_data(df):\r\n",
        "  raw_data = df.values\r\n",
        "  X, y = raw_data[:, :-1], raw_data[:, -1]\r\n",
        "  # Split into train and test set\r\n",
        "  X_train, X_test, y_train, y_test = train_test_split(X, y, test_size=0.20, random_state=42, stratify=y)\r\n",
        "\r\n",
        "  # normalize data\r\n",
        "  scaler = StandardScaler()\r\n",
        "  X_train_normalized = scaler.fit_transform(X_train)\r\n",
        "  X_test_normalized = scaler.transform(X_test)\r\n",
        "\r\n",
        "  return X_train_normalized, X_test_normalized, y_train, y_test\r\n"
      ],
      "execution_count": null,
      "outputs": []
    },
    {
      "cell_type": "code",
      "metadata": {
        "id": "vNVKpDKNhAat"
      },
      "source": [
        ""
      ],
      "execution_count": null,
      "outputs": []
    },
    {
      "cell_type": "markdown",
      "metadata": {
        "id": "NFaNpmjTZjJG"
      },
      "source": [
        "Model Creation"
      ]
    },
    {
      "cell_type": "code",
      "metadata": {
        "id": "abi3qfH_ZkXX"
      },
      "source": [
        "def create_model(num_features):\r\n",
        "  model = Sequential()\r\n",
        "  model.add(layers.Dense(64, input_dim=num_features, activation='relu'))\r\n",
        "  model.add(layers.Dense(64, activation = 'relu'))\r\n",
        "  model.add(layers.Dropout(0.2))\r\n",
        "  model.add(layers.Dense(32, activation = 'relu'))\r\n",
        "  model.add(layers.Dropout(0.2))\r\n",
        "  model.add(layers.Dense(32, activation = 'relu'))\r\n",
        "  model.add(layers.Dense(8, activation='softmax'))\r\n",
        "  model.compile(loss='sparse_categorical_crossentropy', optimizer='adam', metrics=['accuracy'])\r\n",
        "  return model"
      ],
      "execution_count": null,
      "outputs": []
    },
    {
      "cell_type": "markdown",
      "metadata": {
        "id": "ixC2f4GgfFsU"
      },
      "source": [
        "Function for creating a heatmap"
      ]
    },
    {
      "cell_type": "code",
      "metadata": {
        "id": "J1mq_UeBfFCG"
      },
      "source": [
        "def plot_heatmap(class_names, y_pred, y_test):\r\n",
        "    cm = confusion_matrix(y_test, y_pred)\r\n",
        "    fig, ax = plt.subplots(figsize=(15, 15))\r\n",
        "    heatmap = sns.heatmap(cm, fmt='g', cmap='Blues', annot=True, ax=ax)\r\n",
        "    ax.set_xlabel('Predicted class')\r\n",
        "    ax.set_ylabel('True class')\r\n",
        "    ax.set_title('Confusion Matrix')\r\n",
        "    ax.xaxis.set_ticklabels(class_names)\r\n",
        "    ax.yaxis.set_ticklabels(class_names)\r\n",
        "    plt.show()\r\n",
        "    "
      ],
      "execution_count": null,
      "outputs": []
    },
    {
      "cell_type": "markdown",
      "metadata": {
        "id": "PRQ4AhIQfVSS"
      },
      "source": [
        "Function for plotting accuracy and loss over epochs"
      ]
    },
    {
      "cell_type": "code",
      "metadata": {
        "id": "tSjs2S6xfam6"
      },
      "source": [
        "def plot_history(history, param):\r\n",
        "    if param == 'acc':\r\n",
        "        plt.plot(history.history['accuracy'])\r\n",
        "        plt.plot(history.history['val_accuracy'])\r\n",
        "        plt.title('model accuracy')\r\n",
        "        plt.ylabel('accuracy')\r\n",
        "        plt.xlabel('epoch')\r\n",
        "        plt.legend(['train', 'val'], loc='upper left')\r\n",
        "        plt.show()\r\n",
        "    elif param == 'loss':\r\n",
        "        plt.plot(history.history['loss'])\r\n",
        "        plt.plot(history.history['val_loss'])\r\n",
        "        plt.title('model loss')\r\n",
        "        plt.ylabel('loss')\r\n",
        "        plt.xlabel('epoch')\r\n",
        "        plt.legend(['train', 'val'], loc='upper right')\r\n",
        "        plt.show()"
      ],
      "execution_count": null,
      "outputs": []
    },
    {
      "cell_type": "markdown",
      "metadata": {
        "id": "sNGo_ua_jgzI"
      },
      "source": [
        "Main Function to drive programme"
      ]
    },
    {
      "cell_type": "code",
      "metadata": {
        "id": "TUsDdrgFeaua"
      },
      "source": [
        "def main():\r\n",
        "  cols = df.columns.tolist()\r\n",
        "  features, label = cols[:-1], cols[-1]\r\n",
        "  X_train, X_test, y_train, y_test = prep_data(df)\r\n",
        "  num_features = len(features)\r\n",
        "  model = create_model(num_features)\r\n",
        "  num_epochs = 100\r\n",
        "  batch_size = 1024\r\n",
        "  earlystop_callback = EarlyStopping(monitor='val_accuracy', min_delta=0.0001, patience=3)\r\n",
        "  history = model.fit(X_train,\r\n",
        "                        y_train,\r\n",
        "                        epochs=num_epochs,\r\n",
        "                        batch_size=batch_size,\r\n",
        "                        callbacks=[earlystop_callback],\r\n",
        "                        validation_split=0.1,\r\n",
        "                        verbose=1)\r\n",
        "  \r\n",
        "  plot_history(history, 'acc')\r\n",
        "  plot_history(history, 'loss')\r\n",
        "\r\n",
        "  score = model.evaluate(X_test, y_test, verbose=0)\r\n",
        "  print(f'Test loss: {score[0]}')\r\n",
        "  print(f'Test accuracy: {score[1]}')\r\n",
        "\r\n",
        "  y_pred = model.predict(X_test)\r\n",
        "\r\n",
        "  y_pred = np.argmax(y_pred, axis=1)\r\n",
        "  class_names = ['Spruce/Fir', 'Lodgepole Pine',\r\n",
        "                  'Ponderosa Pine', 'Cottonwood/Willow',\r\n",
        "                  'Aspen', 'Douglas-fir', 'Krummholz']\r\n",
        "  print(classification_report(y_test, y_pred, target_names=class_names))\r\n",
        "  plot_heatmap(class_names, y_pred, y_test)\r\n",
        "\r\n"
      ],
      "execution_count": null,
      "outputs": []
    },
    {
      "cell_type": "code",
      "metadata": {
        "colab": {
          "base_uri": "https://localhost:8080/",
          "height": 1000
        },
        "id": "1ewIAp27cSVw",
        "outputId": "1d6cde18-493e-450d-e26c-368c53b8b64c"
      },
      "source": [
        "if __name__ == '__main__':\r\n",
        "    main()"
      ],
      "execution_count": null,
      "outputs": [
        {
          "output_type": "stream",
          "text": [
            "Epoch 1/100\n",
            "409/409 [==============================] - 3s 7ms/step - loss: 1.1147 - accuracy: 0.5640 - val_loss: 0.6088 - val_accuracy: 0.7418\n",
            "Epoch 2/100\n",
            "409/409 [==============================] - 3s 7ms/step - loss: 0.6276 - accuracy: 0.7374 - val_loss: 0.5554 - val_accuracy: 0.7598\n",
            "Epoch 3/100\n",
            "409/409 [==============================] - 3s 7ms/step - loss: 0.5792 - accuracy: 0.7554 - val_loss: 0.5196 - val_accuracy: 0.7788\n",
            "Epoch 4/100\n",
            "409/409 [==============================] - 3s 7ms/step - loss: 0.5463 - accuracy: 0.7684 - val_loss: 0.4919 - val_accuracy: 0.7900\n",
            "Epoch 5/100\n",
            "409/409 [==============================] - 3s 7ms/step - loss: 0.5225 - accuracy: 0.7776 - val_loss: 0.4716 - val_accuracy: 0.7979\n",
            "Epoch 6/100\n",
            "409/409 [==============================] - 3s 7ms/step - loss: 0.5029 - accuracy: 0.7852 - val_loss: 0.4531 - val_accuracy: 0.8060\n",
            "Epoch 7/100\n",
            "409/409 [==============================] - 3s 7ms/step - loss: 0.4861 - accuracy: 0.7929 - val_loss: 0.4390 - val_accuracy: 0.8134\n",
            "Epoch 8/100\n",
            "409/409 [==============================] - 3s 7ms/step - loss: 0.4748 - accuracy: 0.7984 - val_loss: 0.4275 - val_accuracy: 0.8190\n",
            "Epoch 9/100\n",
            "409/409 [==============================] - 3s 7ms/step - loss: 0.4609 - accuracy: 0.8053 - val_loss: 0.4163 - val_accuracy: 0.8249\n",
            "Epoch 10/100\n",
            "409/409 [==============================] - 3s 7ms/step - loss: 0.4521 - accuracy: 0.8092 - val_loss: 0.4094 - val_accuracy: 0.8270\n",
            "Epoch 11/100\n",
            "409/409 [==============================] - 3s 7ms/step - loss: 0.4435 - accuracy: 0.8132 - val_loss: 0.3988 - val_accuracy: 0.8325\n",
            "Epoch 12/100\n",
            "409/409 [==============================] - 3s 7ms/step - loss: 0.4368 - accuracy: 0.8173 - val_loss: 0.3903 - val_accuracy: 0.8365\n",
            "Epoch 13/100\n",
            "409/409 [==============================] - 3s 7ms/step - loss: 0.4296 - accuracy: 0.8194 - val_loss: 0.3813 - val_accuracy: 0.8413\n",
            "Epoch 14/100\n",
            "409/409 [==============================] - 3s 7ms/step - loss: 0.4238 - accuracy: 0.8232 - val_loss: 0.3785 - val_accuracy: 0.8438\n",
            "Epoch 15/100\n",
            "409/409 [==============================] - 3s 7ms/step - loss: 0.4183 - accuracy: 0.8246 - val_loss: 0.3738 - val_accuracy: 0.8447\n",
            "Epoch 16/100\n",
            "409/409 [==============================] - 3s 7ms/step - loss: 0.4150 - accuracy: 0.8274 - val_loss: 0.3671 - val_accuracy: 0.8481\n",
            "Epoch 17/100\n",
            "409/409 [==============================] - 3s 7ms/step - loss: 0.4117 - accuracy: 0.8284 - val_loss: 0.3642 - val_accuracy: 0.8494\n",
            "Epoch 18/100\n",
            "409/409 [==============================] - 3s 7ms/step - loss: 0.4071 - accuracy: 0.8304 - val_loss: 0.3603 - val_accuracy: 0.8507\n",
            "Epoch 19/100\n",
            "409/409 [==============================] - 3s 7ms/step - loss: 0.4040 - accuracy: 0.8320 - val_loss: 0.3577 - val_accuracy: 0.8524\n",
            "Epoch 20/100\n",
            "409/409 [==============================] - 3s 7ms/step - loss: 0.4013 - accuracy: 0.8330 - val_loss: 0.3516 - val_accuracy: 0.8547\n",
            "Epoch 21/100\n",
            "409/409 [==============================] - 3s 7ms/step - loss: 0.3962 - accuracy: 0.8340 - val_loss: 0.3522 - val_accuracy: 0.8546\n",
            "Epoch 22/100\n",
            "409/409 [==============================] - 3s 7ms/step - loss: 0.3957 - accuracy: 0.8357 - val_loss: 0.3475 - val_accuracy: 0.8584\n",
            "Epoch 23/100\n",
            "409/409 [==============================] - 3s 7ms/step - loss: 0.3926 - accuracy: 0.8368 - val_loss: 0.3455 - val_accuracy: 0.8576\n",
            "Epoch 24/100\n",
            "409/409 [==============================] - 3s 7ms/step - loss: 0.3890 - accuracy: 0.8394 - val_loss: 0.3444 - val_accuracy: 0.8588\n",
            "Epoch 25/100\n",
            "409/409 [==============================] - 3s 7ms/step - loss: 0.3878 - accuracy: 0.8392 - val_loss: 0.3428 - val_accuracy: 0.8587\n",
            "Epoch 26/100\n",
            "409/409 [==============================] - 3s 7ms/step - loss: 0.3860 - accuracy: 0.8399 - val_loss: 0.3425 - val_accuracy: 0.8613\n",
            "Epoch 27/100\n",
            "409/409 [==============================] - 3s 7ms/step - loss: 0.3844 - accuracy: 0.8410 - val_loss: 0.3376 - val_accuracy: 0.8616\n",
            "Epoch 28/100\n",
            "409/409 [==============================] - 3s 7ms/step - loss: 0.3817 - accuracy: 0.8420 - val_loss: 0.3362 - val_accuracy: 0.8624\n",
            "Epoch 29/100\n",
            "409/409 [==============================] - 3s 7ms/step - loss: 0.3805 - accuracy: 0.8422 - val_loss: 0.3343 - val_accuracy: 0.8632\n",
            "Epoch 30/100\n",
            "409/409 [==============================] - 3s 7ms/step - loss: 0.3797 - accuracy: 0.8430 - val_loss: 0.3376 - val_accuracy: 0.8633\n",
            "Epoch 31/100\n",
            "409/409 [==============================] - 3s 7ms/step - loss: 0.3763 - accuracy: 0.8442 - val_loss: 0.3299 - val_accuracy: 0.8653\n",
            "Epoch 32/100\n",
            "409/409 [==============================] - 3s 7ms/step - loss: 0.3744 - accuracy: 0.8447 - val_loss: 0.3259 - val_accuracy: 0.8681\n",
            "Epoch 33/100\n",
            "409/409 [==============================] - 3s 7ms/step - loss: 0.3731 - accuracy: 0.8457 - val_loss: 0.3324 - val_accuracy: 0.8639\n",
            "Epoch 34/100\n",
            "409/409 [==============================] - 3s 7ms/step - loss: 0.3732 - accuracy: 0.8451 - val_loss: 0.3259 - val_accuracy: 0.8690\n",
            "Epoch 35/100\n",
            "409/409 [==============================] - 3s 7ms/step - loss: 0.3746 - accuracy: 0.8451 - val_loss: 0.3233 - val_accuracy: 0.8687\n",
            "Epoch 36/100\n",
            "409/409 [==============================] - 3s 7ms/step - loss: 0.3702 - accuracy: 0.8469 - val_loss: 0.3264 - val_accuracy: 0.8668\n",
            "Epoch 37/100\n",
            "409/409 [==============================] - 3s 7ms/step - loss: 0.3687 - accuracy: 0.8468 - val_loss: 0.3226 - val_accuracy: 0.8696\n",
            "Epoch 38/100\n",
            "409/409 [==============================] - 3s 7ms/step - loss: 0.3680 - accuracy: 0.8483 - val_loss: 0.3191 - val_accuracy: 0.8701\n",
            "Epoch 39/100\n",
            "409/409 [==============================] - 3s 7ms/step - loss: 0.3657 - accuracy: 0.8486 - val_loss: 0.3231 - val_accuracy: 0.8678\n",
            "Epoch 40/100\n",
            "409/409 [==============================] - 3s 7ms/step - loss: 0.3682 - accuracy: 0.8472 - val_loss: 0.3227 - val_accuracy: 0.8690\n",
            "Epoch 41/100\n",
            "409/409 [==============================] - 3s 7ms/step - loss: 0.3653 - accuracy: 0.8488 - val_loss: 0.3217 - val_accuracy: 0.8688\n"
          ],
          "name": "stdout"
        },
        {
          "output_type": "display_data",
          "data": {
            "image/png": "[encoded data removed]",
            "text/plain": [
              "<Figure size 432x288 with 1 Axes>"
            ]
          },
          "metadata": {
            "tags": [],
            "needs_background": "light"
          }
        },
        {
          "output_type": "display_data",
          "data": {
            "image/png": "[encoded data removed]",
            "text/plain": [
              "<Figure size 432x288 with 1 Axes>"
            ]
          },
          "metadata": {
            "tags": [],
            "needs_background": "light"
          }
        },
        {
          "output_type": "stream",
          "text": [
            "Test loss: 0.323912113904953\n",
            "Test accuracy: 0.8684371113777161\n",
            "                   precision    recall  f1-score   support\n",
            "\n",
            "       Spruce/Fir       0.87      0.87      0.87     42368\n",
            "   Lodgepole Pine       0.88      0.89      0.89     56661\n",
            "   Ponderosa Pine       0.81      0.89      0.85      7151\n",
            "Cottonwood/Willow       0.86      0.55      0.67       549\n",
            "            Aspen       0.75      0.51      0.61      1899\n",
            "      Douglas-fir       0.75      0.62      0.68      3473\n",
            "        Krummholz       0.90      0.87      0.89      4102\n",
            "\n",
            "         accuracy                           0.87    116203\n",
            "        macro avg       0.83      0.74      0.78    116203\n",
            "     weighted avg       0.87      0.87      0.87    116203\n",
            "\n"
          ],
          "name": "stdout"
        },
        {
          "output_type": "display_data",
          "data": {
            "image/png": "[encoded data removed]",
            "text/plain": [
              "<Figure size 1080x1080 with 2 Axes>"
            ]
          },
          "metadata": {
            "tags": [],
            "needs_background": "light"
          }
        }
      ]
    },
    {
      "cell_type": "code",
      "metadata": {
        "id": "Uu_l885wgOZD"
      },
      "source": [
        ""
      ],
      "execution_count": null,
      "outputs": []
    }
  ]
}